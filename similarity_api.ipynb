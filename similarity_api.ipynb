{
 "cells": [
  {
   "cell_type": "code",
   "execution_count": 1,
   "id": "61fb9bbf",
   "metadata": {},
   "outputs": [],
   "source": [
    "\n",
    "#return index of the abstract with max similarity in sen\n",
    "def findIndex(arr):\n",
    "    max=0\n",
    "    index=-1\n",
    "    for i in range(len(arr)):        \n",
    "        if(arr[i]>max):\n",
    "            max=arr[i]\n",
    "            index=i\n",
    "    \n",
    "    return index+1\n",
    "\n",
    "def similarity_model(abs1,abs2,abs3):    \n",
    "    sen = [\n",
    "        abs1,\n",
    "        abs2,\n",
    "        abs3\n",
    "    ]\n",
    "    from sentence_transformers import SentenceTransformer\n",
    "    model = SentenceTransformer('bert-base-nli-mean-tokens')\n",
    "    #Encoding:\n",
    "    sen_embeddings = model.encode(sen)\n",
    "    sen_embeddings.shape\n",
    "    from sklearn.metrics.pairwise import cosine_similarity\n",
    "    #let's calculate cosine similarity for sentence 0:\n",
    "    similarity_array=(cosine_similarity([sen_embeddings[0]],sen_embeddings[1:])[0])\n",
    "    senIndex=findIndex(similarity_array)\n",
    "    print(sen[senIndex])\n",
    "    ans= sen[senIndex] +\"/n\"+\"is the most similar with a similarity of \"+ str(similarity_array[senIndex-1])\n",
    "    return ans\n",
    "#     return getRef()+\" with a similarity of \"+str(similarity_array[senIndex-1]*100)\n",
    "\n",
    "\n",
    "\n",
    "    "
   ]
  },
  {
   "cell_type": "code",
   "execution_count": null,
   "id": "c64f257d",
   "metadata": {},
   "outputs": [
    {
     "name": "stderr",
     "output_type": "stream",
     "text": [
      "\u001b[33m * Tip: There are .env or .flaskenv files present. Do \"pip install python-dotenv\" to use them.\u001b[0m\n"
     ]
    },
    {
     "name": "stdout",
     "output_type": "stream",
     "text": [
      " * Serving Flask app \"abc\" (lazy loading)\n",
      " * Environment: production\n",
      "\u001b[31m   WARNING: This is a development server. Do not use it in a production deployment.\u001b[0m\n",
      "\u001b[2m   Use a production WSGI server instead.\u001b[0m\n",
      " * Debug mode: on\n"
     ]
    },
    {
     "name": "stderr",
     "output_type": "stream",
     "text": [
      " * Restarting with watchdog (windowsapi)\n",
      " * Running on http://localhost:9000/ (Press CTRL+C to quit)\n"
     ]
    },
    {
     "name": "stdout",
     "output_type": "stream",
     "text": [
      "Exception occured!\n"
     ]
    },
    {
     "name": "stderr",
     "output_type": "stream",
     "text": [
      "127.0.0.1 - - [27/Dec/2022 16:54:42] \"OPTIONS / HTTP/1.1\" 200 -\n"
     ]
    },
    {
     "name": "stdout",
     "output_type": "stream",
     "text": [
      "{'abs1': '\"Abstract—An  Artificial  Neural  Network  (ANN)  is  an  information  processing  paradigm that  is  inspired  by  the  way  biological \\\\nnervous  systems,  such  as  the  brain,  process  information.  The  key element  of  this  paradigm  is  the  novel  structure  of  the \\\\ninformation processing system. It is composed of a large number of highly interconnected processing elements (neurons) working \\\\nin unison to solve specific problems. ANNs, like people, learn by example. An ANN is configured for a specific application, such \\\\nas pattern recognition or data classification, through a learning process. Learning in biological systems involves adjustments to the \\\\nsynaptic connections that exist between the neurons. This is true of ANNs as well. This paper gives overview of Artificial Ne ural \\\\nNetwork, working & training of ANN. It also explain the application and advantages of ANN. \\\\n\"', 'abs2': 'Much of the information used by ecologists in modelling and decision making is imprecise. The imprecision arises both from data that are inexact or incomplete and from the use of ecological principles that are sometimes less than fully reliable and may be conflicting. Nevertheless, expert ecologists are able to construct usable models and make decisions that are used to manage and control ecological resources. This paper describes a unique expert system shell, developed in conjunction with user ecologists, which incorporates …', 'abs3': 'Artificial neural net models have been studied for many years in the hope of achieving human-like performance in the fields of speech and image recognition. These models are composed of many nonlinear computational elements operating in parallel and arranged in patterns reminiscent of biological neural nets. Computational elements or nodes are connected via weights that are typically adapted during use to improve performance. There has been a recent resurgence in the field of artificial neural nets caused by new net …'}\n"
     ]
    },
    {
     "name": "stderr",
     "output_type": "stream",
     "text": [
      "127.0.0.1 - - [27/Dec/2022 16:54:52] \"POST / HTTP/1.1\" 200 -\n"
     ]
    },
    {
     "name": "stdout",
     "output_type": "stream",
     "text": [
      "Artificial neural net models have been studied for many years in the hope of achieving human-like performance in the fields of speech and image recognition. These models are composed of many nonlinear computational elements operating in parallel and arranged in patterns reminiscent of biological neural nets. Computational elements or nodes are connected via weights that are typically adapted during use to improve performance. There has been a recent resurgence in the field of artificial neural nets caused by new net …\n"
     ]
    }
   ],
   "source": [
    "from flask import Flask\n",
    "from flask import request\n",
    "from flask_cors import CORS\n",
    "from sklearn.metrics.pairwise import cosine_similarity\n",
    "\n",
    "\n",
    "app = Flask(\"abc\")\n",
    "CORS(app)\n",
    "\n",
    "    \n",
    "@app.route('/',methods=['POST'])\n",
    "def parse_data():\n",
    "    data = request.get_json();\n",
    "    abs1=data['abs1'];\n",
    "    abs2=data['abs2'];\n",
    "    abs3=data['abs3'];\n",
    "    \n",
    "    print(data)\n",
    "    return similarity_model(abs1,abs2,abs3);\n",
    "#     return str(similarity_array)\n",
    "\n",
    "try: \n",
    "    # works fine while running the py script in the command-line \n",
    "    app.run(debug=True,port=8000)\n",
    "except:\n",
    "    # internal issue with Jupyter Notebook\n",
    "    print(\"Exception occured!\")\n",
    "    # running manually\n",
    "    from werkzeug.serving import run_simple\n",
    "    run_simple('localhost', 9000, app)"
   ]
  },
  {
   "cell_type": "markdown",
   "id": "e6f8dc58",
   "metadata": {},
   "source": [
    "to do list:\n",
    "1) in similarity_model take abstracts from parametere\n",
    "2) in flask send request.form values into function\n",
    "\n"
   ]
  },
  {
   "cell_type": "code",
   "execution_count": null,
   "id": "e879e087",
   "metadata": {},
   "outputs": [],
   "source": []
  }
 ],
 "metadata": {
  "kernelspec": {
   "display_name": "Python 3 (ipykernel)",
   "language": "python",
   "name": "python3"
  },
  "language_info": {
   "codemirror_mode": {
    "name": "ipython",
    "version": 3
   },
   "file_extension": ".py",
   "mimetype": "text/x-python",
   "name": "python",
   "nbconvert_exporter": "python",
   "pygments_lexer": "ipython3",
   "version": "3.9.7"
  },
  "vscode": {
   "interpreter": {
    "hash": "3d86237bf704886635957959de6b734fe4177548ca2ca78202994b318aa4b602"
   }
  }
 },
 "nbformat": 4,
 "nbformat_minor": 5
}
